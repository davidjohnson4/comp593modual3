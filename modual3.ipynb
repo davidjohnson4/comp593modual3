{
  "nbformat": 4,
  "nbformat_minor": 0,
  "metadata": {
    "colab": {
      "name": "modual3.ipynb",
      "provenance": [],
      "authorship_tag": "ABX9TyNRxH9oRd127vPw1KYkx6Y4",
      "include_colab_link": true
    },
    "kernelspec": {
      "name": "python3",
      "display_name": "Python 3"
    },
    "language_info": {
      "name": "python"
    }
  },
  "cells": [
    {
      "cell_type": "markdown",
      "metadata": {
        "id": "view-in-github",
        "colab_type": "text"
      },
      "source": [
        "<a href=\"https://colab.research.google.com/github/davidjohnson4/comp593modual3/blob/main/modual3.ipynb\" target=\"_parent\"><img src=\"https://colab.research.google.com/assets/colab-badge.svg\" alt=\"Open In Colab\"/></a>"
      ]
    },
    {
      "cell_type": "code",
      "execution_count": null,
      "metadata": {
        "id": "VQFoDxs1iLCJ"
      },
      "outputs": [],
      "source": [
        "#!pip install faker\n",
        "import sqlite3\n",
        "import pprint\n",
        "from pprint import pprint\n",
        "from faker import Faker\n",
        "from datetime import datetime\n",
        "\n",
        "myConection = sqlite3.connect('social_network.db')\n",
        "\n",
        "myCursor = myConection.cursor()\n",
        "\n",
        "createPeopleTable =  \"\"\"CREATE TABLE IF NOT EXISTS people (\n",
        "                        id interger PRIMARY KEY,\n",
        "                        name text NOT NULL,\n",
        "                        email text NOT NULL,\n",
        "                        address text NOT NULL,\n",
        "                        city text NOT NULL,\n",
        "                        province text NOT NULL,\n",
        "                        country text NOT NULL,\n",
        "                        phone text,\n",
        "                        bio text,\n",
        "                        dob date NOT NULL,\n",
        "                        heatmap integer,\n",
        "                        created_at datetime NOT NULL,\n",
        "                        updated_at datetime NOT NULL,\n",
        "                        ipv4 text\n",
        "                        )\"\"\"\n",
        "\n",
        "addPersonQuery = \"\"\"INSERT INTO people (name,\n",
        "                    email,\n",
        "                    address,\n",
        "                    city,\n",
        "                    province,\n",
        "                    country,\n",
        "                    phone,\n",
        "                    bio,\n",
        "                    dob,\n",
        "                    heatmap,\n",
        "                    created_at,\n",
        "                    updated_at,\n",
        "                    ipv4)\n",
        "                  VALUES (?, ?, ?, ?, ?, ?, ?, ?, ?, ?, ?, ?, ?);\"\"\"\n",
        "\n",
        "fake = Faker(\"en_CA\")\n",
        "\n",
        "newPerson = (fake.name(),\n",
        "             fake.ascii_email(),\n",
        "             fake.street_address(),\n",
        "             fake.city(),\n",
        "             fake.administrative_unit(),\n",
        "             fake.current_country(),\n",
        "             fake.phone_number(),\n",
        "             fake.sentence(nb_words=5),\n",
        "             fake.date_of_birth(),\n",
        "             fake.random_int(min=999, max=2500),\n",
        "             datetime.now(),\n",
        "             datetime.now(),\n",
        "             fake.ipv4_public())\n",
        "myConection.commit\n",
        "for i in range(1000):\n",
        "  myCursor.execute(createPeopleTable)\n",
        "  myCursor.execute(addPersonQuery, newPerson)\n",
        "  myCursor.execute(\"SELECT * from people LIMIT 5\")\n",
        "\n",
        "for record in myCursor:\n",
        "  pprint(record)\n",
        "\n",
        "\n"
      ]
    },
    {
      "cell_type": "code",
      "source": [
        "import sqlite3\n",
        "import pprint\n",
        "from pprint import pprint\n",
        "myConection.commit()\n",
        "myConection = sqlite3.connect(\"social_network.db\")\n",
        "\n",
        "selectStatement = \"\"\"SELECT name, heatmap from people LIMIT 20\"\"\"\n",
        "\n",
        "myCursor.execute(selectStatement)\n",
        "results = myCursor.fetchall()\n",
        "pprint(results)\n"
      ],
      "metadata": {
        "id": "z9P5ep2w7kXV"
      },
      "execution_count": null,
      "outputs": []
    }
  ]
}